{
 "cells": [
  {
   "cell_type": "code",
   "execution_count": 7,
   "metadata": {},
   "outputs": [],
   "source": [
    "from pymongo.mongo_client import MongoClient\n",
    "from pymongo.server_api import ServerApi\n",
    "from dotenv import load_dotenv\n",
    "from fastapi import FastAPI, Query, Path, HTTPException\n",
    "import logging\n",
    "from typing import List, Optional\n",
    "import os\n",
    "from fastapi.middleware.cors import CORSMiddleware\n",
    "from pydantic import BaseModel\n",
    "import random \n",
    "import json \n",
    "\n",
    "import numpy as np\n",
    "import gridfs\n",
    "from sentence_transformers import SentenceTransformer\n",
    "import faiss\n",
    "from sklearn.decomposition import PCA\n",
    "import pickle\n",
    "from sklearn.preprocessing import normalize\n"
   ]
  },
  {
   "cell_type": "code",
   "execution_count": 8,
   "metadata": {},
   "outputs": [
    {
     "name": "stdout",
     "output_type": "stream",
     "text": [
      "Loading embeddings from MongoDB...\n",
      "Loading embeddings finished!\n"
     ]
    }
   ],
   "source": [
    "load_dotenv()\n",
    "uri = os.getenv(\"MONGODB_URI\")\n",
    "try:\n",
    "    client = MongoClient(uri, server_api=ServerApi('1'))\n",
    "    db = client.ica_conf\n",
    "    papers_collection = db['papers']\n",
    "    embeddings_collection = db['embeddings']\n",
    "except Exception as e:\n",
    "    print(\"Error connecting to MongoDB:\", e)\n",
    "    raise \n",
    "\n",
    "# Load the embeddings directly from MongoDB\n",
    "print(\"Loading embeddings from MongoDB...\")\n",
    "embedding_docs = list(embeddings_collection.find({}, {\"_id\": 0, \"paper_id\": 1, \"embedding\": 1}))\n",
    "paper_embeddings = {doc[\"paper_id\"]: doc[\"embedding\"] for doc in embedding_docs}\n",
    "print(\"Loading embeddings finished!\")\n",
    "\n",
    "# Convert embeddings to NumPy array for FAISS\n",
    "embeddings = np.array(list(paper_embeddings.values()), dtype=np.float32)\n",
    "dimension = embeddings.shape[1]\n",
    "index = faiss.IndexFlatL2(dimension)\n",
    "index.add(embeddings)\n",
    "\n",
    "# Load the SentenceTransformer model\n",
    "model = SentenceTransformer('all-MiniLM-L6-v2')\n",
    "\n",
    "with open(\"pca_model.pkl\", \"rb\") as f:\n",
    "    pca = pickle.load(f)"
   ]
  },
  {
   "cell_type": "code",
   "execution_count": 9,
   "metadata": {},
   "outputs": [],
   "source": [
    "query = 'history'\n",
    "query_embedding = model.encode(query).reshape(1, -1)\n",
    "query_embedding = pca.transform(query_embedding) \n",
    "query_embedding = normalize(query_embedding, norm='l2') "
   ]
  },
  {
   "cell_type": "code",
   "execution_count": 10,
   "metadata": {},
   "outputs": [
    {
     "data": {
      "text/plain": [
       "array([[-0.18035112,  0.36617496,  0.00382748, -0.03999193, -0.10932939,\n",
       "        -0.00104222, -0.19386088,  0.11938665,  0.15355717,  0.29081877,\n",
       "         0.00515902,  0.11793398, -0.12257402,  0.17042483, -0.01794571,\n",
       "         0.12195163,  0.22689171,  0.06965355, -0.07631791,  0.10628783,\n",
       "         0.2116692 ,  0.0211395 ,  0.04406381,  0.15793029,  0.0431853 ,\n",
       "        -0.17344472, -0.05742695, -0.03860859, -0.02712459,  0.13316845,\n",
       "         0.14382991, -0.17390026,  0.06540496, -0.07261153,  0.12883144,\n",
       "        -0.10479668,  0.16409655, -0.0279471 ,  0.06509209,  0.0456898 ,\n",
       "        -0.04816658,  0.01565317, -0.10316963,  0.1280073 ,  0.08689662,\n",
       "        -0.19221146, -0.18517006,  0.00834335,  0.07112796,  0.18116358,\n",
       "        -0.0854278 ,  0.00265226, -0.04267308, -0.04016757,  0.06526354,\n",
       "        -0.05516535, -0.01972004,  0.06714266, -0.0751992 ,  0.09940738,\n",
       "         0.02050727, -0.05002487,  0.01648288,  0.06966137, -0.05388484,\n",
       "         0.0555284 ,  0.01986847, -0.01773694,  0.06883964, -0.02805282,\n",
       "        -0.06804352,  0.03246544,  0.01124442,  0.08314753,  0.00366095,\n",
       "        -0.06206548,  0.07258575, -0.16699427, -0.08779375,  0.03494281]])"
      ]
     },
     "execution_count": 10,
     "metadata": {},
     "output_type": "execute_result"
    }
   ],
   "source": [
    "query_embedding"
   ]
  },
  {
   "cell_type": "code",
   "execution_count": 11,
   "metadata": {},
   "outputs": [
    {
     "name": "stdout",
     "output_type": "stream",
     "text": [
      "Query embedding shape after PCA and normalization: (1, 80)\n"
     ]
    }
   ],
   "source": [
    "print(\"Query embedding shape after PCA and normalization:\", query_embedding.shape)\n"
   ]
  },
  {
   "cell_type": "code",
   "execution_count": 12,
   "metadata": {},
   "outputs": [
    {
     "name": "stdout",
     "output_type": "stream",
     "text": [
      "FAISS index dimension: 80\n"
     ]
    }
   ],
   "source": [
    "print(\"FAISS index dimension:\", dimension)\n"
   ]
  }
 ],
 "metadata": {
  "kernelspec": {
   "display_name": "ica",
   "language": "python",
   "name": "python3"
  },
  "language_info": {
   "codemirror_mode": {
    "name": "ipython",
    "version": 3
   },
   "file_extension": ".py",
   "mimetype": "text/x-python",
   "name": "python",
   "nbconvert_exporter": "python",
   "pygments_lexer": "ipython3",
   "version": "3.11.6"
  }
 },
 "nbformat": 4,
 "nbformat_minor": 2
}
